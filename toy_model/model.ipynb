{
 "cells": [
  {
   "cell_type": "code",
   "execution_count": 1,
   "metadata": {},
   "outputs": [],
   "source": [
    "from transformers import pipeline\n",
    "import scipy\n",
    "import torch\n",
    "\n",
    "device = 1; # torch.cuda.device(1)\n",
    "#torch.cuda.set_device(1)\n",
    "\n",
    "MAX_TOKENS: int = 1503 # 30 seconds, (about 50 tokens/second)\n",
    "\n",
    "time_tokens = lambda t: t * 50"
   ]
  },
  {
   "cell_type": "code",
   "execution_count": null,
   "metadata": {},
   "outputs": [],
   "source": [
    "rate, data = scipy.io.wavfile.read('sounds/mists.wav')\n",
    "data = torch.Tensor(data)[rate * 5:, :].cuda()\n",
    "print(rate, data.shape)"
   ]
  },
  {
   "cell_type": "code",
   "execution_count": 7,
   "metadata": {},
   "outputs": [
    {
     "data": {
      "application/vnd.jupyter.widget-view+json": {
       "model_id": "1e4f77f0dd2a444bb9355c1ccef2d662",
       "version_major": 2,
       "version_minor": 0
      },
      "text/plain": [
       "Loading checkpoint shards:   0%|          | 0/2 [00:00<?, ?it/s]"
      ]
     },
     "metadata": {},
     "output_type": "display_data"
    },
    {
     "name": "stdout",
     "output_type": "stream",
     "text": [
      "preprocessing\n",
      "postprocessing\n"
     ]
    }
   ],
   "source": [
    "from transformers import AutoProcessor, MusicgenMelodyForConditionalGeneration\n",
    "\n",
    "\n",
    "processor = AutoProcessor.from_pretrained(\"facebook/musicgen-melody\")\n",
    "model = MusicgenMelodyForConditionalGeneration.from_pretrained(\"facebook/musicgen-melody\").cuda(1)\n",
    "\n",
    "print('preprocessing')\n",
    "\n",
    "inputs = processor(\n",
    "    #audio=data,\n",
    "    #sampling_rate=rate,\n",
    "    text=[\"piano\"],\n",
    "    padding=True,\n",
    "    return_tensors=\"pt\",\n",
    ")\n",
    "\n",
    "print('postprocessing')\n",
    "\n",
    "for k in inputs.keys():\n",
    "    inputs[k] = inputs[k].to(f'cuda:1')\n",
    "\n",
    "# Check for use_cache"
   ]
  },
  {
   "cell_type": "code",
   "execution_count": 11,
   "metadata": {},
   "outputs": [
    {
     "name": "stdout",
     "output_type": "stream",
     "text": [
      "generated\n"
     ]
    }
   ],
   "source": [
    "audio_values = model.generate(**inputs, do_sample=True, guidance_scale=3, max_new_tokens=time_tokens(10), use_cache=True)\n",
    "print('generated')"
   ]
  },
  {
   "cell_type": "code",
   "execution_count": 12,
   "metadata": {},
   "outputs": [],
   "source": [
    "import soundfile as sf\n",
    "\n",
    "sampling_rate = model.config.audio_encoder.sampling_rate\n",
    "sf.write(\"sounds/output_cache.wav\", audio_values[0].T.cpu().numpy(), sampling_rate)\n",
    "\n",
    "# post-run\n",
    "#del model\n",
    "#torch.cuda.empty_cache()"
   ]
  },
  {
   "cell_type": "markdown",
   "metadata": {},
   "source": [
    "other stuff"
   ]
  },
  {
   "cell_type": "code",
   "execution_count": null,
   "metadata": {},
   "outputs": [],
   "source": [
    "synthesiser = pipeline(\"text-to-audio\", \"facebook/musicgen-small\", device=1)\n",
    "\n",
    "music = synthesiser(\"lo-fi music with a soothing melody\", forward_params={\"do_sample\": True})\n",
    "\n",
    "scipy.io.wavfile.write(\"sounds/musicgen_out.wav\", rate=music[\"sampling_rate\"], data=music[\"audio\"])"
   ]
  },
  {
   "cell_type": "code",
   "execution_count": null,
   "metadata": {},
   "outputs": [],
   "source": [
    "from transformers import AutoProcessor, MusicgenForConditionalGeneration\n",
    "\n",
    "processor = AutoProcessor.from_pretrained(\"facebook/musicgen-small\")\n",
    "model = MusicgenForConditionalGeneration.from_pretrained(\"facebook/musicgen-small\")\n",
    "\n",
    "inputs = processor(\n",
    "    text=[\"80s pop track with bassy drums and synth\", \"90s rock song with loud guitars and heavy drums\"],\n",
    "    padding=True,\n",
    "    return_tensors=\"pt\",\n",
    ")\n",
    "\n",
    "audio_values = model.generate(**inputs, max_new_tokens=256)"
   ]
  },
  {
   "cell_type": "code",
   "execution_count": null,
   "metadata": {},
   "outputs": [],
   "source": [
    "from IPython.display import Audio\n",
    "\n",
    "sampling_rate = model.config.audio_encoder.sampling_rate\n",
    "Audio(audio_values[0].numpy(), rate=sampling_rate)"
   ]
  },
  {
   "cell_type": "code",
   "execution_count": null,
   "metadata": {},
   "outputs": [],
   "source": []
  }
 ],
 "metadata": {
  "kernelspec": {
   "display_name": "venv",
   "language": "python",
   "name": "python3"
  },
  "language_info": {
   "codemirror_mode": {
    "name": "ipython",
    "version": 3
   },
   "file_extension": ".py",
   "mimetype": "text/x-python",
   "name": "python",
   "nbconvert_exporter": "python",
   "pygments_lexer": "ipython3",
   "version": "3.10.12"
  }
 },
 "nbformat": 4,
 "nbformat_minor": 2
}
