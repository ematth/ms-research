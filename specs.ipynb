{
 "cells": [
  {
   "cell_type": "code",
   "execution_count": 2,
   "metadata": {},
   "outputs": [],
   "source": [
    "import torch, torchaudio, matplotlib.pyplot as plt"
   ]
  },
  {
   "cell_type": "code",
   "execution_count": 3,
   "metadata": {},
   "outputs": [],
   "source": [
    "import torch\n",
    "import torchaudio\n",
    "import matplotlib.pyplot as plt\n",
    "import numpy as np\n",
    "\n",
    "def plot_spectrogram(waveform, sample_rate, title=\"Spectrogram\"):\n",
    "    # Convert to mono if stereo\n",
    "    if waveform.shape[0] > 1:\n",
    "        waveform = torch.mean(waveform, dim=0, keepdim=True)\n",
    "    \n",
    "    # Compute spectrogram\n",
    "    spectrogram = torchaudio.transforms.Spectrogram()(waveform)\n",
    "    \n",
    "    # Convert to log scale (dB)\n",
    "    spectrogram_db = 20 * torch.log10(spectrogram + 1e-10)\n",
    "    \n",
    "    # Convert to numpy for plotting\n",
    "    spectrogram_np = spectrogram_db.squeeze().numpy()\n",
    "    \n",
    "    # Create time and frequency axes\n",
    "    time_axis = np.arange(spectrogram_np.shape[1]) * (1.0 / sample_rate)\n",
    "    freq_axis = np.arange(spectrogram_np.shape[0]) * (sample_rate / 2) / spectrogram_np.shape[0]\n",
    "    \n",
    "    # Plot\n",
    "    plt.figure(figsize=(10, 6))\n",
    "    plt.pcolormesh(time_axis, freq_axis, spectrogram_np, shading='gouraud')\n",
    "    plt.colorbar(label='Magnitude (dB)')\n",
    "    plt.xlabel('Time (s)')\n",
    "    plt.ylabel('Frequency (Hz)')\n",
    "    plt.title(title)\n",
    "    plt.show()"
   ]
  },
  {
   "cell_type": "code",
   "execution_count": null,
   "metadata": {},
   "outputs": [],
   "source": [
    "x, sr = torchaudio.load(\"temp1a.wav\")\n",
    "\n",
    "plot_spectrogram(x, sr)"
   ]
  }
 ],
 "metadata": {
  "kernelspec": {
   "display_name": "venv",
   "language": "python",
   "name": "python3"
  },
  "language_info": {
   "codemirror_mode": {
    "name": "ipython",
    "version": 3
   },
   "file_extension": ".py",
   "mimetype": "text/x-python",
   "name": "python",
   "nbconvert_exporter": "python",
   "pygments_lexer": "ipython3",
   "version": "3.10.12"
  }
 },
 "nbformat": 4,
 "nbformat_minor": 2
}
