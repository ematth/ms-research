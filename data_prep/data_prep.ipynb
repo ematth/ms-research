{
 "cells": [
  {
   "cell_type": "markdown",
   "metadata": {},
   "source": [
    "# Data prep:"
   ]
  },
  {
   "cell_type": "markdown",
   "metadata": {},
   "source": [
    "- MAESTRO recordings, (.wav, sampling_rate=22.5kHz)\n",
    "- IMSLP score images, (variable file type, resolution, # pages)"
   ]
  },
  {
   "cell_type": "code",
   "execution_count": 1,
   "metadata": {},
   "outputs": [],
   "source": [
    "import pandas as pd\n",
    "import numpy as np"
   ]
  },
  {
   "cell_type": "code",
   "execution_count": 2,
   "metadata": {},
   "outputs": [],
   "source": [
    "# MAESTRO data, comma-delimited, quotechar='\"' since commas can appear in canonical_title field.\n",
    "maestro = pd.read_csv('./maestro-v3.0.0.csv', delimiter=',', quotechar='\"')"
   ]
  },
  {
   "cell_type": "code",
   "execution_count": 3,
   "metadata": {},
   "outputs": [
    {
     "name": "stdout",
     "output_type": "stream",
     "text": [
      "0                         Sonata Op. 1\n",
      "1                         Sonata Op. 1\n",
      "2                         Sonata Op. 1\n",
      "3        24 Preludes Op. 11, No. 13-24\n",
      "4                     3 Etudes, Op. 65\n",
      "                     ...              \n",
      "1271           Sonata in F Major, K280\n",
      "1272           Sonata in F Major, K280\n",
      "1273           Sonata in F Major, K533\n",
      "1274      Sonata in F Major, K533/K494\n",
      "1275    Twelve Variations, K179 (189a)\n",
      "Name: canonical_title, Length: 1276, dtype: object\n"
     ]
    }
   ],
   "source": [
    "print(maestro['canonical_title'])"
   ]
  },
  {
   "cell_type": "code",
   "execution_count": 13,
   "metadata": {},
   "outputs": [],
   "source": [
    "train = maestro.loc[maestro['split'] == 'train']\n",
    "validation = maestro.loc[maestro['split'] == 'validation']\n",
    "\n",
    "train.to_csv('maestro-v3.0.0-train.csv', index=False)\n",
    "validation.to_csv('maestro-v3.0.0-validation.csv', index=False)"
   ]
  },
  {
   "cell_type": "code",
   "execution_count": null,
   "metadata": {},
   "outputs": [],
   "source": []
  }
 ],
 "metadata": {
  "kernelspec": {
   "display_name": "venv",
   "language": "python",
   "name": "python3"
  },
  "language_info": {
   "codemirror_mode": {
    "name": "ipython",
    "version": 3
   },
   "file_extension": ".py",
   "mimetype": "text/x-python",
   "name": "python",
   "nbconvert_exporter": "python",
   "pygments_lexer": "ipython3",
   "version": "3.10.12"
  }
 },
 "nbformat": 4,
 "nbformat_minor": 2
}
