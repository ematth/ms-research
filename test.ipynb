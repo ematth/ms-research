{
 "cells": [
  {
   "cell_type": "code",
   "execution_count": 1,
   "id": "94b92ded",
   "metadata": {},
   "outputs": [],
   "source": [
    "count: int = 0"
   ]
  },
  {
   "cell_type": "code",
   "execution_count": 4,
   "id": "ddb2b07f",
   "metadata": {},
   "outputs": [
    {
     "data": {
      "application/vnd.jupyter.widget-view+json": {
       "model_id": "77b49464eafb43b284c74ceed3db674d",
       "version_major": 2,
       "version_minor": 0
      },
      "text/plain": [
       "Loading pipeline components...:   0%|          | 0/6 [00:00<?, ?it/s]"
      ]
     },
     "metadata": {},
     "output_type": "display_data"
    },
    {
     "data": {
      "application/vnd.jupyter.widget-view+json": {
       "model_id": "56cddaad4b2c40c3b206efc3ee57f598",
       "version_major": 2,
       "version_minor": 0
      },
      "text/plain": [
       "  0%|          | 0/100 [00:00<?, ?it/s]"
      ]
     },
     "metadata": {},
     "output_type": "display_data"
    }
   ],
   "source": [
    "count += 1\n",
    "import sys, torch\n",
    "from diffusers import StableAudioPipeline\n",
    "import soundfile as sf\n",
    "\n",
    "processor = 'cuda:0'\n",
    "pipe = StableAudioPipeline.from_pretrained(\"stabilityai/stable-audio-open-1.0\", torch_dtype=torch.float16)\n",
    "pipe = pipe.to(processor)\n",
    "pipe.enable_model_cpu_offload()\n",
    "\n",
    "# define the prompts\n",
    "prompt = \"a lock clicking\"\n",
    "negative_prompt = \"Low quality.\"\n",
    "\n",
    "# set the seed for generator\n",
    "generator = torch.Generator(processor)\n",
    "\n",
    "# run the generation\n",
    "audio = pipe(\n",
    "    prompt,\n",
    "    negative_prompt=negative_prompt,\n",
    "    num_inference_steps=100,\n",
    "    audio_end_in_s=5.0,\n",
    "    num_waveforms_per_prompt=2,\n",
    "    generator=generator,\n",
    ").audios\n",
    "\n",
    "output = audio[0].T.float().cpu().numpy()\n",
    "sf.write(f\"temp{count}a.wav\", output, pipe.vae.sampling_rate)\n",
    "output = audio[1].T.float().cpu().numpy()\n",
    "sf.write(f\"temp{count}b.wav\", output, pipe.vae.sampling_rate)\n"
   ]
  },
  {
   "cell_type": "code",
   "execution_count": null,
   "id": "2116e4c3",
   "metadata": {},
   "outputs": [],
   "source": []
  }
 ],
 "metadata": {
  "kernelspec": {
   "display_name": "venv",
   "language": "python",
   "name": "python3"
  },
  "language_info": {
   "codemirror_mode": {
    "name": "ipython",
    "version": 3
   },
   "file_extension": ".py",
   "mimetype": "text/x-python",
   "name": "python",
   "nbconvert_exporter": "python",
   "pygments_lexer": "ipython3",
   "version": "3.10.12"
  }
 },
 "nbformat": 4,
 "nbformat_minor": 5
}
