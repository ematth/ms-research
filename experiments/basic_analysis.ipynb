{
 "cells": [
  {
   "cell_type": "markdown",
   "id": "55706357",
   "metadata": {},
   "source": [
    "# Basic Analysis"
   ]
  },
  {
   "cell_type": "code",
   "execution_count": null,
   "id": "7b30a6b3",
   "metadata": {},
   "outputs": [],
   "source": [
    "import numpy as np\n",
    "from scipy.io import wavfile"
   ]
  },
  {
   "cell_type": "markdown",
   "id": "7b7dd39f",
   "metadata": {},
   "source": [
    "### FAD"
   ]
  },
  {
   "cell_type": "code",
   "execution_count": null,
   "id": "02e6eafd",
   "metadata": {},
   "outputs": [],
   "source": []
  },
  {
   "cell_type": "markdown",
   "id": "10d6e5d3",
   "metadata": {},
   "source": [
    "### CLAP"
   ]
  },
  {
   "cell_type": "markdown",
   "id": "82d13270",
   "metadata": {},
   "source": []
  },
  {
   "cell_type": "markdown",
   "id": "11a610d1",
   "metadata": {},
   "source": [
    "### Other Variational metric methods"
   ]
  },
  {
   "cell_type": "markdown",
   "id": "546c0e3c",
   "metadata": {},
   "source": []
  },
  {
   "cell_type": "code",
   "execution_count": null,
   "id": "d79a516d",
   "metadata": {},
   "outputs": [],
   "source": []
  }
 ],
 "metadata": {
  "language_info": {
   "name": "python"
  }
 },
 "nbformat": 4,
 "nbformat_minor": 5
}
